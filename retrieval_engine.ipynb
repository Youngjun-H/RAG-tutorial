{
 "cells": [
  {
   "cell_type": "code",
   "execution_count": 1,
   "id": "80b6d1e6",
   "metadata": {},
   "outputs": [
    {
     "data": {
      "text/plain": [
       "True"
      ]
     },
     "execution_count": 1,
     "metadata": {},
     "output_type": "execute_result"
    }
   ],
   "source": [
    "import os\n",
    "from langchain_community.document_loaders import PyPDFLoader\n",
    "from langchain_text_splitters import RecursiveCharacterTextSplitter\n",
    "from langchain_upstage import UpstageEmbeddings # Upstage 임베딩 모델\n",
    "from langchain_community.vectorstores import Chroma # Chroma DB\n",
    "from langchain_openai import ChatOpenAI\n",
    "from langchain.chains import ConversationalRetrievalChain\n",
    "from langchain.memory import ConversationBufferMemory\n",
    "from dotenv import load_dotenv\n",
    "\n",
    "load_dotenv()"
   ]
  },
  {
   "cell_type": "code",
   "execution_count": 2,
   "id": "c21127f0",
   "metadata": {},
   "outputs": [
    {
     "name": "stdout",
     "output_type": "stream",
     "text": [
      "loaded 2098 documents\n",
      "split 2103 documents\n"
     ]
    }
   ],
   "source": [
    "pdf_folder_path = \"./w_total\"\n",
    "\n",
    "def load_pdfs_from_folder(folder_path):\n",
    "    documents = []\n",
    "    for filename in os.listdir(folder_path):\n",
    "        if filename.endswith('.pdf'):\n",
    "            file_path = os.path.join(folder_path, filename)\n",
    "            loader = PyPDFLoader(file_path)\n",
    "            documents.extend(loader.load())\n",
    "    print(f\"loaded {len(documents)} documents\")\n",
    "    return documents\n",
    "all_documents = load_pdfs_from_folder(pdf_folder_path)\n",
    "\n",
    "# 2. 문서 분할 (이전 코드의 split_documents 함수 재사용)\n",
    "def split_documents(documents):\n",
    "    text_splitter = RecursiveCharacterTextSplitter(chunk_size=1000, chunk_overlap=200, add_start_index=True)\n",
    "    return text_splitter.split_documents(documents)\n",
    "split_docs = split_documents(all_documents)\n",
    "print(f\"split {len(split_docs)} documents\")"
   ]
  },
  {
   "cell_type": "code",
   "execution_count": 3,
   "id": "77d6eb82",
   "metadata": {},
   "outputs": [],
   "source": [
    "from langchain.chat_models import init_chat_model\n",
    "\n",
    "llm = init_chat_model(\"gpt-4o-mini\", model_provider=\"openai\")"
   ]
  },
  {
   "cell_type": "code",
   "execution_count": 4,
   "id": "1c352c88",
   "metadata": {},
   "outputs": [],
   "source": [
    "# from langchain_core.messages import HumanMessage, SystemMessage\n",
    "\n",
    "# messages = [\n",
    "#     SystemMessage(\"Translate the following from English into Korean\"),\n",
    "#     HumanMessage(\"hi!\"),\n",
    "\n",
    "# llm.invoke(messages)"
   ]
  },
  {
   "cell_type": "code",
   "execution_count": 5,
   "id": "5516e055",
   "metadata": {},
   "outputs": [],
   "source": [
    "from langchain_upstage import UpstageEmbeddings\n",
    "\n",
    "embeddings = UpstageEmbeddings(model=\"solar-embedding-1-large\")"
   ]
  },
  {
   "cell_type": "code",
   "execution_count": 6,
   "id": "5de48c57",
   "metadata": {},
   "outputs": [],
   "source": [
    "from langchain_chroma import Chroma\n",
    "\n",
    "vector_store = Chroma(\n",
    "    collection_name=\"sermon_collection\",\n",
    "    embedding_function=embeddings,\n",
    "    persist_directory=\"./chroma_w_2024_2025\",  # Where to save data locally, remove if not necessary\n",
    ")"
   ]
  },
  {
   "cell_type": "code",
   "execution_count": 7,
   "id": "28199b59",
   "metadata": {},
   "outputs": [],
   "source": [
    "ids = vector_store.add_documents(documents=split_docs)"
   ]
  },
  {
   "cell_type": "code",
   "execution_count": null,
   "id": "5b59ac6e",
   "metadata": {},
   "outputs": [
    {
     "name": "stdout",
     "output_type": "stream",
     "text": [
      "page_content='3 240107- 주일말씀 .hwp\n",
      "- 3 -◎ 오늘 말씀의 ‘핵심’을 먼저 전해 주겠습니다 .\n",
      "   ① 주가 오면 ‘표적’이 일어납니다 . \n",
      "      그것을 통해 알게 하려 함입니다 .\n",
      "   ② 시대가 오고, 주가 와도 \n",
      "      행할 것을 행하지 않으면 온 것 같지 않습니다 .\n",
      "      애인이 되고 결혼을 하여도 \n",
      "      사랑하고 행하지 않으면  \n",
      "      애인이나 부부 같지 않은 것입니다 .\n",
      "   ③ 죄를 짓고 회개하지 않으면 , 사망에 있습니다 . \n",
      "      이는 하나님과 상관없는 자라는 것입니다 .\n",
      "   이렇게 3가지 핵심을 잘 기억하며 , 말씀 듣겠습니다 .' metadata={'creationdate': '2024-01-07T15:31:39+09:00', 'start_index': 0, 'total_pages': 23, 'creator': 'Hwp 2022 12.0.0.3146', 'author': '생명의 말씀', 'pdfversion': '1.4', 'page': 2, 'producer': 'Hancom PDF 1.3.0.546', 'page_label': '3', 'source': './w_total/20240107_주일말씀.pdf', 'moddate': '2024-01-07T15:31:39+09:00'}\n"
     ]
    }
   ],
   "source": [
    "results = vector_store.similarity_search(\n",
    "    \"시대와 표적을 알아라 주제의 말씀을 찾아줘.\"\n",
    ")\n",
    "\n",
    "print(results[0])"
   ]
  },
  {
   "cell_type": "code",
   "execution_count": null,
   "id": "5e982e3a",
   "metadata": {},
   "outputs": [
    {
     "name": "stdout",
     "output_type": "stream",
     "text": [
      "4\n"
     ]
    }
   ],
   "source": [
    "from langchain_core.documents import Document\n",
    "from typing_extensions import List, TypedDict\n",
    "\n",
    "\n",
    "class State(TypedDict):\n",
    "    question: str\n",
    "    context: List[Document]\n",
    "    answer: str"
   ]
  },
  {
   "cell_type": "code",
   "execution_count": null,
   "id": "7e5a9d0a",
   "metadata": {},
   "outputs": [],
   "source": []
  }
 ],
 "metadata": {
  "kernelspec": {
   "display_name": "rag",
   "language": "python",
   "name": "python3"
  },
  "language_info": {
   "codemirror_mode": {
    "name": "ipython",
    "version": 3
   },
   "file_extension": ".py",
   "mimetype": "text/x-python",
   "name": "python",
   "nbconvert_exporter": "python",
   "pygments_lexer": "ipython3",
   "version": "3.12.11"
  }
 },
 "nbformat": 4,
 "nbformat_minor": 5
}
